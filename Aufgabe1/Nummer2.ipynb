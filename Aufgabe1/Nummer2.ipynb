{
 "cells": [
  {
   "metadata": {},
   "cell_type": "markdown",
   "source": [
    "## a)\n",
    "Daten aus der Zipdatei lesen"
   ],
   "id": "dc40eaf2ac5fd629"
  },
  {
   "cell_type": "code",
   "id": "initial_id",
   "metadata": {
    "collapsed": true,
    "ExecuteTime": {
     "end_time": "2025-10-28T09:07:39.432521Z",
     "start_time": "2025-10-28T09:07:39.138694Z"
    }
   },
   "source": [
    "import zipfile\n",
    "import json\n",
    "from pathlib import Path\n",
    "\n",
    "path = Path('foods-2011-10-03.json.zip')\n",
    "\n",
    "with zipfile.ZipFile(path, \"r\") as z:\n",
    "    print(\"Inhalt des ZIP:\", z.namelist())\n",
    "    json_filename = None\n",
    "    for name in z.namelist():\n",
    "        if name.lower().endswith(\".json\"):\n",
    "            json_filename = name\n",
    "            break\n",
    "    assert json_filename is not None, \"Keine JSON-Datei im ZIP gefunden.\"\n",
    "\n",
    "    with z.open(json_filename) as f:\n",
    "        data = json.load(f)\n",
    "\n",
    "print(\"Anzahl Einträge (Foods):\", len(data))"
   ],
   "outputs": [
    {
     "name": "stdout",
     "output_type": "stream",
     "text": [
      "Inhalt des ZIP: ['foods-2011-10-03.json']\n",
      "Anzahl Einträge (Foods): 6636\n"
     ]
    }
   ],
   "execution_count": 22
  },
  {
   "metadata": {},
   "cell_type": "markdown",
   "source": [
    "b) Die Datenbank steht nun in Form einer Liste aus 6636 Python-Dictionaries zu Verfügung. Jedes Dictionary enthält Angaben zu einem Nahrungsmittel. Greifen Sie sich ein beliebiges Nahrungsmittel heraus und lassen sich die Namen der Einträge mit der Methode `dict.keys()` anzeigen. Einer der Einträge enthält die enthaltenen Nährstoffe (`nutrients`), ebenfalls als Dictionary. Lassen Sie sich wiederum einen beliebigen Eintrag der Nährstoffliste anzeigen. Es sollte auffallen, dass manche Feldnamen doppelt vorkommen.\n",
    "\n",
    "Teile dieser hierarchischen Struktur sollen nun in eine einheitliche Tabelle umgewandelt werden, um eine explorative Analyse durchführen zu können.\n",
    "\n",
    "Vorgehensweise:\n",
    "\n",
    "* Kopieren Sie zunächst die Felder `description`,`group`,`id`,`manufacturer` in einen eigenen DataFrame `info`, sowie alle Nährstofflisten in ein Array von DataFrames, wobei Sie an jeden DataFrame die entsprechende ID des Nahrungsmittels als eigene Spalte anhängen.\n",
    "* Dieses Array wird mithilfe der Funktion `pandas.concat()` zu einem großen DataFrame nutrients (389355 Einträge) vereinigt.\n",
    "* Entfernen Sie alle Duplikate aus diesem DataFrame.\n",
    "* Bevor beide DataFrames vereinigt werden können, gibt es noch ein Problem: beide enthalten Felder mit dem Namen `description` und `group` (s.o.). Benennen Sie diese daher mithilfe von DataFrame.rename() in eindeutige Namen um.\n",
    "* Vereinigen Sie beide DataFrames mit `pandas.merge(nutrients, info, on=’id’, how=’outer’)` anhand der Nahrungsmittel-ID.\n",
    "\n",
    "Überprüfen Sie das Ergebnis jeder Manipulation mit `DataFrame.head()``."
   ],
   "id": "1a8fd929f19a58"
  },
  {
   "metadata": {
    "ExecuteTime": {
     "end_time": "2025-10-28T09:07:39.478977Z",
     "start_time": "2025-10-28T09:07:39.455547Z"
    }
   },
   "cell_type": "code",
   "source": [
    "import pandas as pd\n",
    "\n",
    "info = pd.DataFrame([\n",
    "    {\n",
    "        'id': item.get('id'),\n",
    "        'description': item.get('description'),\n",
    "        'group': item.get('group'),\n",
    "        'manufacturer': item.get('manufacturer')\n",
    "    }\n",
    "    for item in data\n",
    "])\n",
    "info.head()"
   ],
   "id": "fbd07024df2283ce",
   "outputs": [
    {
     "data": {
      "text/plain": [
       "     id                         description                   group   \n",
       "0  1008                     Cheese, caraway  Dairy and Egg Products  \\\n",
       "1  1009                     Cheese, cheddar  Dairy and Egg Products   \n",
       "2  1018                        Cheese, edam  Dairy and Egg Products   \n",
       "3  1019                        Cheese, feta  Dairy and Egg Products   \n",
       "4  1028  Cheese, mozzarella, part skim milk  Dairy and Egg Products   \n",
       "\n",
       "  manufacturer  \n",
       "0               \n",
       "1               \n",
       "2               \n",
       "3               \n",
       "4               "
      ],
      "text/html": [
       "<div>\n",
       "<style scoped>\n",
       "    .dataframe tbody tr th:only-of-type {\n",
       "        vertical-align: middle;\n",
       "    }\n",
       "\n",
       "    .dataframe tbody tr th {\n",
       "        vertical-align: top;\n",
       "    }\n",
       "\n",
       "    .dataframe thead th {\n",
       "        text-align: right;\n",
       "    }\n",
       "</style>\n",
       "<table border=\"1\" class=\"dataframe\">\n",
       "  <thead>\n",
       "    <tr style=\"text-align: right;\">\n",
       "      <th></th>\n",
       "      <th>id</th>\n",
       "      <th>description</th>\n",
       "      <th>group</th>\n",
       "      <th>manufacturer</th>\n",
       "    </tr>\n",
       "  </thead>\n",
       "  <tbody>\n",
       "    <tr>\n",
       "      <th>0</th>\n",
       "      <td>1008</td>\n",
       "      <td>Cheese, caraway</td>\n",
       "      <td>Dairy and Egg Products</td>\n",
       "      <td></td>\n",
       "    </tr>\n",
       "    <tr>\n",
       "      <th>1</th>\n",
       "      <td>1009</td>\n",
       "      <td>Cheese, cheddar</td>\n",
       "      <td>Dairy and Egg Products</td>\n",
       "      <td></td>\n",
       "    </tr>\n",
       "    <tr>\n",
       "      <th>2</th>\n",
       "      <td>1018</td>\n",
       "      <td>Cheese, edam</td>\n",
       "      <td>Dairy and Egg Products</td>\n",
       "      <td></td>\n",
       "    </tr>\n",
       "    <tr>\n",
       "      <th>3</th>\n",
       "      <td>1019</td>\n",
       "      <td>Cheese, feta</td>\n",
       "      <td>Dairy and Egg Products</td>\n",
       "      <td></td>\n",
       "    </tr>\n",
       "    <tr>\n",
       "      <th>4</th>\n",
       "      <td>1028</td>\n",
       "      <td>Cheese, mozzarella, part skim milk</td>\n",
       "      <td>Dairy and Egg Products</td>\n",
       "      <td></td>\n",
       "    </tr>\n",
       "  </tbody>\n",
       "</table>\n",
       "</div>"
      ]
     },
     "execution_count": 23,
     "metadata": {},
     "output_type": "execute_result"
    }
   ],
   "execution_count": 23
  },
  {
   "metadata": {
    "ExecuteTime": {
     "end_time": "2025-10-28T09:07:41.874750Z",
     "start_time": "2025-10-28T09:07:39.533536Z"
    }
   },
   "cell_type": "code",
   "source": [
    "nutrient_dfs = []\n",
    "for item in data:\n",
    "    nutrients_list = item.get('nutrients', [])\n",
    "    if nutrients_list:\n",
    "        df_n = pd.DataFrame(nutrients_list)\n",
    "        df_n['id'] = item.get('id')\n",
    "        nutrient_dfs.append(df_n)\n",
    "\n",
    "nutrients = pd.concat(nutrient_dfs, ignore_index=True)\n",
    "nutrients.head()"
   ],
   "id": "f228a26bf55705ae",
   "outputs": [
    {
     "data": {
      "text/plain": [
       "    value units                  description        group    id\n",
       "0   25.18     g                      Protein  Composition  1008\n",
       "1   29.20     g            Total lipid (fat)  Composition  1008\n",
       "2    3.06     g  Carbohydrate, by difference  Composition  1008\n",
       "3    3.28     g                          Ash        Other  1008\n",
       "4  376.00  kcal                       Energy       Energy  1008"
      ],
      "text/html": [
       "<div>\n",
       "<style scoped>\n",
       "    .dataframe tbody tr th:only-of-type {\n",
       "        vertical-align: middle;\n",
       "    }\n",
       "\n",
       "    .dataframe tbody tr th {\n",
       "        vertical-align: top;\n",
       "    }\n",
       "\n",
       "    .dataframe thead th {\n",
       "        text-align: right;\n",
       "    }\n",
       "</style>\n",
       "<table border=\"1\" class=\"dataframe\">\n",
       "  <thead>\n",
       "    <tr style=\"text-align: right;\">\n",
       "      <th></th>\n",
       "      <th>value</th>\n",
       "      <th>units</th>\n",
       "      <th>description</th>\n",
       "      <th>group</th>\n",
       "      <th>id</th>\n",
       "    </tr>\n",
       "  </thead>\n",
       "  <tbody>\n",
       "    <tr>\n",
       "      <th>0</th>\n",
       "      <td>25.18</td>\n",
       "      <td>g</td>\n",
       "      <td>Protein</td>\n",
       "      <td>Composition</td>\n",
       "      <td>1008</td>\n",
       "    </tr>\n",
       "    <tr>\n",
       "      <th>1</th>\n",
       "      <td>29.20</td>\n",
       "      <td>g</td>\n",
       "      <td>Total lipid (fat)</td>\n",
       "      <td>Composition</td>\n",
       "      <td>1008</td>\n",
       "    </tr>\n",
       "    <tr>\n",
       "      <th>2</th>\n",
       "      <td>3.06</td>\n",
       "      <td>g</td>\n",
       "      <td>Carbohydrate, by difference</td>\n",
       "      <td>Composition</td>\n",
       "      <td>1008</td>\n",
       "    </tr>\n",
       "    <tr>\n",
       "      <th>3</th>\n",
       "      <td>3.28</td>\n",
       "      <td>g</td>\n",
       "      <td>Ash</td>\n",
       "      <td>Other</td>\n",
       "      <td>1008</td>\n",
       "    </tr>\n",
       "    <tr>\n",
       "      <th>4</th>\n",
       "      <td>376.00</td>\n",
       "      <td>kcal</td>\n",
       "      <td>Energy</td>\n",
       "      <td>Energy</td>\n",
       "      <td>1008</td>\n",
       "    </tr>\n",
       "  </tbody>\n",
       "</table>\n",
       "</div>"
      ]
     },
     "execution_count": 24,
     "metadata": {},
     "output_type": "execute_result"
    }
   ],
   "execution_count": 24
  },
  {
   "metadata": {
    "ExecuteTime": {
     "end_time": "2025-10-28T09:07:42.325789Z",
     "start_time": "2025-10-28T09:07:42.127541Z"
    }
   },
   "cell_type": "code",
   "source": [
    "print(\"nutrients (vor drop_duplicates) shape:\", nutrients.shape)\n",
    "nutrients = nutrients.drop_duplicates().reset_index(drop=True)\n",
    "print(\"nutrients (nach drop_duplicates) shape:\", nutrients.shape)\n",
    "nutrients.head()"
   ],
   "id": "d517b57abbbaed2f",
   "outputs": [
    {
     "name": "stdout",
     "output_type": "stream",
     "text": [
      "nutrients (vor drop_duplicates) shape: (389355, 5)\n",
      "nutrients (nach drop_duplicates) shape: (375176, 5)\n"
     ]
    },
    {
     "data": {
      "text/plain": [
       "    value units                  description        group    id\n",
       "0   25.18     g                      Protein  Composition  1008\n",
       "1   29.20     g            Total lipid (fat)  Composition  1008\n",
       "2    3.06     g  Carbohydrate, by difference  Composition  1008\n",
       "3    3.28     g                          Ash        Other  1008\n",
       "4  376.00  kcal                       Energy       Energy  1008"
      ],
      "text/html": [
       "<div>\n",
       "<style scoped>\n",
       "    .dataframe tbody tr th:only-of-type {\n",
       "        vertical-align: middle;\n",
       "    }\n",
       "\n",
       "    .dataframe tbody tr th {\n",
       "        vertical-align: top;\n",
       "    }\n",
       "\n",
       "    .dataframe thead th {\n",
       "        text-align: right;\n",
       "    }\n",
       "</style>\n",
       "<table border=\"1\" class=\"dataframe\">\n",
       "  <thead>\n",
       "    <tr style=\"text-align: right;\">\n",
       "      <th></th>\n",
       "      <th>value</th>\n",
       "      <th>units</th>\n",
       "      <th>description</th>\n",
       "      <th>group</th>\n",
       "      <th>id</th>\n",
       "    </tr>\n",
       "  </thead>\n",
       "  <tbody>\n",
       "    <tr>\n",
       "      <th>0</th>\n",
       "      <td>25.18</td>\n",
       "      <td>g</td>\n",
       "      <td>Protein</td>\n",
       "      <td>Composition</td>\n",
       "      <td>1008</td>\n",
       "    </tr>\n",
       "    <tr>\n",
       "      <th>1</th>\n",
       "      <td>29.20</td>\n",
       "      <td>g</td>\n",
       "      <td>Total lipid (fat)</td>\n",
       "      <td>Composition</td>\n",
       "      <td>1008</td>\n",
       "    </tr>\n",
       "    <tr>\n",
       "      <th>2</th>\n",
       "      <td>3.06</td>\n",
       "      <td>g</td>\n",
       "      <td>Carbohydrate, by difference</td>\n",
       "      <td>Composition</td>\n",
       "      <td>1008</td>\n",
       "    </tr>\n",
       "    <tr>\n",
       "      <th>3</th>\n",
       "      <td>3.28</td>\n",
       "      <td>g</td>\n",
       "      <td>Ash</td>\n",
       "      <td>Other</td>\n",
       "      <td>1008</td>\n",
       "    </tr>\n",
       "    <tr>\n",
       "      <th>4</th>\n",
       "      <td>376.00</td>\n",
       "      <td>kcal</td>\n",
       "      <td>Energy</td>\n",
       "      <td>Energy</td>\n",
       "      <td>1008</td>\n",
       "    </tr>\n",
       "  </tbody>\n",
       "</table>\n",
       "</div>"
      ]
     },
     "execution_count": 25,
     "metadata": {},
     "output_type": "execute_result"
    }
   ],
   "execution_count": 25
  },
  {
   "metadata": {
    "ExecuteTime": {
     "end_time": "2025-10-28T09:07:42.403411Z",
     "start_time": "2025-10-28T09:07:42.377868Z"
    }
   },
   "cell_type": "code",
   "source": [
    "nutrients = nutrients.rename(columns={'description': 'nutrient_description', 'group': 'nutrient_group'})\n",
    "nutrients.head()\n"
   ],
   "id": "f0fa3f44017d0010",
   "outputs": [
    {
     "data": {
      "text/plain": [
       "    value units         nutrient_description nutrient_group    id\n",
       "0   25.18     g                      Protein    Composition  1008\n",
       "1   29.20     g            Total lipid (fat)    Composition  1008\n",
       "2    3.06     g  Carbohydrate, by difference    Composition  1008\n",
       "3    3.28     g                          Ash          Other  1008\n",
       "4  376.00  kcal                       Energy         Energy  1008"
      ],
      "text/html": [
       "<div>\n",
       "<style scoped>\n",
       "    .dataframe tbody tr th:only-of-type {\n",
       "        vertical-align: middle;\n",
       "    }\n",
       "\n",
       "    .dataframe tbody tr th {\n",
       "        vertical-align: top;\n",
       "    }\n",
       "\n",
       "    .dataframe thead th {\n",
       "        text-align: right;\n",
       "    }\n",
       "</style>\n",
       "<table border=\"1\" class=\"dataframe\">\n",
       "  <thead>\n",
       "    <tr style=\"text-align: right;\">\n",
       "      <th></th>\n",
       "      <th>value</th>\n",
       "      <th>units</th>\n",
       "      <th>nutrient_description</th>\n",
       "      <th>nutrient_group</th>\n",
       "      <th>id</th>\n",
       "    </tr>\n",
       "  </thead>\n",
       "  <tbody>\n",
       "    <tr>\n",
       "      <th>0</th>\n",
       "      <td>25.18</td>\n",
       "      <td>g</td>\n",
       "      <td>Protein</td>\n",
       "      <td>Composition</td>\n",
       "      <td>1008</td>\n",
       "    </tr>\n",
       "    <tr>\n",
       "      <th>1</th>\n",
       "      <td>29.20</td>\n",
       "      <td>g</td>\n",
       "      <td>Total lipid (fat)</td>\n",
       "      <td>Composition</td>\n",
       "      <td>1008</td>\n",
       "    </tr>\n",
       "    <tr>\n",
       "      <th>2</th>\n",
       "      <td>3.06</td>\n",
       "      <td>g</td>\n",
       "      <td>Carbohydrate, by difference</td>\n",
       "      <td>Composition</td>\n",
       "      <td>1008</td>\n",
       "    </tr>\n",
       "    <tr>\n",
       "      <th>3</th>\n",
       "      <td>3.28</td>\n",
       "      <td>g</td>\n",
       "      <td>Ash</td>\n",
       "      <td>Other</td>\n",
       "      <td>1008</td>\n",
       "    </tr>\n",
       "    <tr>\n",
       "      <th>4</th>\n",
       "      <td>376.00</td>\n",
       "      <td>kcal</td>\n",
       "      <td>Energy</td>\n",
       "      <td>Energy</td>\n",
       "      <td>1008</td>\n",
       "    </tr>\n",
       "  </tbody>\n",
       "</table>\n",
       "</div>"
      ]
     },
     "execution_count": 26,
     "metadata": {},
     "output_type": "execute_result"
    }
   ],
   "execution_count": 26
  },
  {
   "metadata": {
    "ExecuteTime": {
     "end_time": "2025-10-28T09:07:42.666892Z",
     "start_time": "2025-10-28T09:07:42.656881Z"
    }
   },
   "cell_type": "code",
   "source": [
    "info = info.rename(columns={'description': 'food_description', 'group': 'food_group'})\n",
    "info.head()"
   ],
   "id": "1f7f922613ff2666",
   "outputs": [
    {
     "data": {
      "text/plain": [
       "     id                    food_description              food_group   \n",
       "0  1008                     Cheese, caraway  Dairy and Egg Products  \\\n",
       "1  1009                     Cheese, cheddar  Dairy and Egg Products   \n",
       "2  1018                        Cheese, edam  Dairy and Egg Products   \n",
       "3  1019                        Cheese, feta  Dairy and Egg Products   \n",
       "4  1028  Cheese, mozzarella, part skim milk  Dairy and Egg Products   \n",
       "\n",
       "  manufacturer  \n",
       "0               \n",
       "1               \n",
       "2               \n",
       "3               \n",
       "4               "
      ],
      "text/html": [
       "<div>\n",
       "<style scoped>\n",
       "    .dataframe tbody tr th:only-of-type {\n",
       "        vertical-align: middle;\n",
       "    }\n",
       "\n",
       "    .dataframe tbody tr th {\n",
       "        vertical-align: top;\n",
       "    }\n",
       "\n",
       "    .dataframe thead th {\n",
       "        text-align: right;\n",
       "    }\n",
       "</style>\n",
       "<table border=\"1\" class=\"dataframe\">\n",
       "  <thead>\n",
       "    <tr style=\"text-align: right;\">\n",
       "      <th></th>\n",
       "      <th>id</th>\n",
       "      <th>food_description</th>\n",
       "      <th>food_group</th>\n",
       "      <th>manufacturer</th>\n",
       "    </tr>\n",
       "  </thead>\n",
       "  <tbody>\n",
       "    <tr>\n",
       "      <th>0</th>\n",
       "      <td>1008</td>\n",
       "      <td>Cheese, caraway</td>\n",
       "      <td>Dairy and Egg Products</td>\n",
       "      <td></td>\n",
       "    </tr>\n",
       "    <tr>\n",
       "      <th>1</th>\n",
       "      <td>1009</td>\n",
       "      <td>Cheese, cheddar</td>\n",
       "      <td>Dairy and Egg Products</td>\n",
       "      <td></td>\n",
       "    </tr>\n",
       "    <tr>\n",
       "      <th>2</th>\n",
       "      <td>1018</td>\n",
       "      <td>Cheese, edam</td>\n",
       "      <td>Dairy and Egg Products</td>\n",
       "      <td></td>\n",
       "    </tr>\n",
       "    <tr>\n",
       "      <th>3</th>\n",
       "      <td>1019</td>\n",
       "      <td>Cheese, feta</td>\n",
       "      <td>Dairy and Egg Products</td>\n",
       "      <td></td>\n",
       "    </tr>\n",
       "    <tr>\n",
       "      <th>4</th>\n",
       "      <td>1028</td>\n",
       "      <td>Cheese, mozzarella, part skim milk</td>\n",
       "      <td>Dairy and Egg Products</td>\n",
       "      <td></td>\n",
       "    </tr>\n",
       "  </tbody>\n",
       "</table>\n",
       "</div>"
      ]
     },
     "execution_count": 27,
     "metadata": {},
     "output_type": "execute_result"
    }
   ],
   "execution_count": 27
  },
  {
   "metadata": {
    "ExecuteTime": {
     "end_time": "2025-10-28T09:07:42.853660Z",
     "start_time": "2025-10-28T09:07:42.798580Z"
    }
   },
   "cell_type": "code",
   "source": [
    "merged = pd.merge(nutrients, info, on='id', how='outer')\n",
    "merged.head()"
   ],
   "id": "f5a0517e39e3ff21",
   "outputs": [
    {
     "data": {
      "text/plain": [
       "    value units         nutrient_description nutrient_group    id   \n",
       "0   25.18     g                      Protein    Composition  1008  \\\n",
       "1   29.20     g            Total lipid (fat)    Composition  1008   \n",
       "2    3.06     g  Carbohydrate, by difference    Composition  1008   \n",
       "3    3.28     g                          Ash          Other  1008   \n",
       "4  376.00  kcal                       Energy         Energy  1008   \n",
       "\n",
       "  food_description              food_group manufacturer  \n",
       "0  Cheese, caraway  Dairy and Egg Products               \n",
       "1  Cheese, caraway  Dairy and Egg Products               \n",
       "2  Cheese, caraway  Dairy and Egg Products               \n",
       "3  Cheese, caraway  Dairy and Egg Products               \n",
       "4  Cheese, caraway  Dairy and Egg Products               "
      ],
      "text/html": [
       "<div>\n",
       "<style scoped>\n",
       "    .dataframe tbody tr th:only-of-type {\n",
       "        vertical-align: middle;\n",
       "    }\n",
       "\n",
       "    .dataframe tbody tr th {\n",
       "        vertical-align: top;\n",
       "    }\n",
       "\n",
       "    .dataframe thead th {\n",
       "        text-align: right;\n",
       "    }\n",
       "</style>\n",
       "<table border=\"1\" class=\"dataframe\">\n",
       "  <thead>\n",
       "    <tr style=\"text-align: right;\">\n",
       "      <th></th>\n",
       "      <th>value</th>\n",
       "      <th>units</th>\n",
       "      <th>nutrient_description</th>\n",
       "      <th>nutrient_group</th>\n",
       "      <th>id</th>\n",
       "      <th>food_description</th>\n",
       "      <th>food_group</th>\n",
       "      <th>manufacturer</th>\n",
       "    </tr>\n",
       "  </thead>\n",
       "  <tbody>\n",
       "    <tr>\n",
       "      <th>0</th>\n",
       "      <td>25.18</td>\n",
       "      <td>g</td>\n",
       "      <td>Protein</td>\n",
       "      <td>Composition</td>\n",
       "      <td>1008</td>\n",
       "      <td>Cheese, caraway</td>\n",
       "      <td>Dairy and Egg Products</td>\n",
       "      <td></td>\n",
       "    </tr>\n",
       "    <tr>\n",
       "      <th>1</th>\n",
       "      <td>29.20</td>\n",
       "      <td>g</td>\n",
       "      <td>Total lipid (fat)</td>\n",
       "      <td>Composition</td>\n",
       "      <td>1008</td>\n",
       "      <td>Cheese, caraway</td>\n",
       "      <td>Dairy and Egg Products</td>\n",
       "      <td></td>\n",
       "    </tr>\n",
       "    <tr>\n",
       "      <th>2</th>\n",
       "      <td>3.06</td>\n",
       "      <td>g</td>\n",
       "      <td>Carbohydrate, by difference</td>\n",
       "      <td>Composition</td>\n",
       "      <td>1008</td>\n",
       "      <td>Cheese, caraway</td>\n",
       "      <td>Dairy and Egg Products</td>\n",
       "      <td></td>\n",
       "    </tr>\n",
       "    <tr>\n",
       "      <th>3</th>\n",
       "      <td>3.28</td>\n",
       "      <td>g</td>\n",
       "      <td>Ash</td>\n",
       "      <td>Other</td>\n",
       "      <td>1008</td>\n",
       "      <td>Cheese, caraway</td>\n",
       "      <td>Dairy and Egg Products</td>\n",
       "      <td></td>\n",
       "    </tr>\n",
       "    <tr>\n",
       "      <th>4</th>\n",
       "      <td>376.00</td>\n",
       "      <td>kcal</td>\n",
       "      <td>Energy</td>\n",
       "      <td>Energy</td>\n",
       "      <td>1008</td>\n",
       "      <td>Cheese, caraway</td>\n",
       "      <td>Dairy and Egg Products</td>\n",
       "      <td></td>\n",
       "    </tr>\n",
       "  </tbody>\n",
       "</table>\n",
       "</div>"
      ]
     },
     "execution_count": 28,
     "metadata": {},
     "output_type": "execute_result"
    }
   ],
   "execution_count": 28
  },
  {
   "metadata": {},
   "cell_type": "markdown",
   "source": "c) Nun sind die Daten bereit für die Untersuchung auf das Spurenelement Zink (Feldname: `Zinc, Zn`). Lesen Sie dazu alle Tabelleneinträge mithilfe einer geeigneten Indizierung in einen DataFrame aus, der nur Einträge zum Nährstoff Zink enthält. Daraus wählen Sie wiederum die Spalte mit dem Zinkgehalt in mg (`value`) aus und stellen dafür ein Histogramm und eine Liste deskriptiver Statistiken dar. Finden Sie in Ihrer Tabelle Edamer (`Cheese, edam`). Hat Edamer einen überdurchschnittlichen Zinkgehalt? Haben mehr als 75% aller Nahrungsmittel einen kleineren Zinkgehalt? Welches Nahrungsmittel hat den maximalen Zinkgehalt?",
   "id": "489ae3897210159f"
  },
  {
   "metadata": {
    "ExecuteTime": {
     "end_time": "2025-10-28T09:07:43.242678Z",
     "start_time": "2025-10-28T09:07:43.046931Z"
    }
   },
   "cell_type": "code",
   "source": [
    "import matplotlib.pyplot as plt\n",
    "import numpy as np\n",
    "\n",
    "nutrient_col = 'nutrient_description'\n",
    "food_col = 'food_description'\n",
    "value_col = 'value'\n",
    "\n",
    "zinc_df = merged[merged[nutrient_col] == 'Zinc, Zn'].copy()\n",
    "\n",
    "# Aggregiere pro Nahrungsmittel (ein Wert pro id), nehme das Maximum falls mehrfach vorhanden\n",
    "per_food = zinc_df.groupby('id').agg(\n",
    "    {value_col: 'max', food_col: 'first'}\n",
    ").rename(columns={value_col: 'zinc_mg', food_col: 'food_description'}).reset_index()\n",
    "\n",
    "stats = per_food['zinc_mg'].describe()\n",
    "print(\"Deskriptive Statistik für Zink (mg):\")\n",
    "print(stats)\n",
    "\n",
    "# Histogramm\n",
    "plt.figure(figsize=(8, 5))\n",
    "plt.hist(per_food['zinc_mg'].dropna(), bins=50, color='C0', edgecolor='black')\n",
    "plt.xlabel('Zink (mg)')\n",
    "plt.ylabel('Anzahl Nahrungsmittel')\n",
    "plt.title('Histogramm des Zinkgehalts pro Nahrungsmittel')\n",
    "plt.grid(alpha=0.3)\n",
    "plt.show()\n",
    "\n",
    "edam_rows = per_food[per_food['food_description'].str.contains('Cheese, edam', case=False, na=False)]\n",
    "if not edam_rows.empty:\n",
    "    # Falls mehrere Varianten, nehme den Mittelwert bzw. liste alle\n",
    "    edam_vals = edam_rows['zinc_mg'].values\n",
    "    edam_mean = edam_vals.mean()\n",
    "    print(\"\\nEdamer gefunden (Einträge):\")\n",
    "    print(edam_rows[['id', 'food_description', 'zinc_mg']])\n",
    "    print(f\"\\nEdamer: mittlerer Zinkwert = {edam_mean:.3f} mg\")\n",
    "else:\n",
    "    edam_mean = np.nan\n",
    "    print(\"\\nEdamer ('Cheese, edam') nicht in der Zink-Tabelle gefunden.\")\n",
    "\n",
    "# Überdurchschnittlich?\n",
    "mean_zinc = per_food['zinc_mg'].mean()\n",
    "if not np.isnan(edam_mean):\n",
    "    print(f\"\\nDurchschnittlicher Zinkgehalt aller Nahrungsmittel: {mean_zinc:.3f} mg\")\n",
    "    print(\"Hat Edamer einen überdurchschnittlichen Zinkgehalt?:\", edam_mean > mean_zinc)\n",
    "\n",
    "# Anteil der Nahrungsmittel mit kleinerem Zinkgehalt als Edamer\n",
    "if not np.isnan(edam_mean):\n",
    "    prop_smaller = (per_food['zinc_mg'] < edam_mean).mean()\n",
    "    print(f\"Anteil der Nahrungsmittel mit kleinerem Zinkgehalt als Edamer: {prop_smaller:.3%}\")\n",
    "    print(\"Haben mehr als 75% einen kleineren Zinkgehalt?:\", prop_smaller > 0.75)\n",
    "\n",
    "# Nahrungsmittel mit maximalem Zinkgehalt\n",
    "idx_max = per_food['zinc_mg'].idxmax()\n",
    "max_row = per_food.loc[idx_max]\n",
    "print(\"\\nNahrungsmittel mit maximalem Zinkgehalt:\")\n",
    "print(max_row.to_dict())\n"
   ],
   "id": "d0fb308884f6f5bf",
   "outputs": [
    {
     "name": "stdout",
     "output_type": "stream",
     "text": [
      "Deskriptive Statistik für Zink (mg):\n",
      "count    6137.000000\n",
      "mean        2.228589\n",
      "std         3.975321\n",
      "min         0.000000\n",
      "25%         0.340000\n",
      "50%         0.980000\n",
      "75%         2.980000\n",
      "max        90.950000\n",
      "Name: zinc_mg, dtype: float64\n"
     ]
    },
    {
     "data": {
      "text/plain": [
       "<Figure size 800x500 with 1 Axes>"
      ],
      "image/png": "[encoded data removed]"
     },
     "metadata": {},
     "output_type": "display_data",
     "jetTransient": {
      "display_id": null
     }
    },
    {
     "name": "stdout",
     "output_type": "stream",
     "text": [
      "\n",
      "Edamer gefunden (Einträge):\n",
      "     id food_description  zinc_mg\n",
      "2  1018     Cheese, edam     3.75\n",
      "\n",
      "Edamer: mittlerer Zinkwert = 3.750 mg\n",
      "\n",
      "Durchschnittlicher Zinkgehalt aller Nahrungsmittel: 2.229 mg\n",
      "Hat Edamer einen überdurchschnittlichen Zinkgehalt?: True\n",
      "Anteil der Nahrungsmittel mit kleinerem Zinkgehalt als Edamer: 80.626%\n",
      "Haben mehr als 75% einen kleineren Zinkgehalt?: True\n",
      "\n",
      "Nahrungsmittel mit maximalem Zinkgehalt:\n",
      "{'id': 15170, 'zinc_mg': 90.95, 'food_description': 'Mollusks, oyster, eastern, canned'}\n"
     ]
    }
   ],
   "execution_count": 29
  },
  {
   "metadata": {
    "ExecuteTime": {
     "end_time": "2025-10-28T09:07:43.289241Z",
     "start_time": "2025-10-28T09:07:43.270213Z"
    }
   },
   "cell_type": "code",
   "source": [
    "%load_ext version_information\n",
    "%version_information numpy, pandas"
   ],
   "id": "f400f921c6fa4554",
   "outputs": [
    {
     "data": {
      "text/plain": [
       "Software versions\n",
       "Python 3.10.7 64bit [MSC v.1933 64 bit (AMD64)]\n",
       "IPython 8.13.2\n",
       "OS Windows 10 10.0.26200 SP0\n",
       "numpy 1.23.3\n",
       "pandas 2.0.1\n",
       "Tue Oct 28 10:07:43 2025 Mitteleuropäische Zeit"
      ],
      "text/html": [
       "<table><tr><th>Software</th><th>Version</th></tr><tr><td>Python</td><td>3.10.7 64bit [MSC v.1933 64 bit (AMD64)]</td></tr><tr><td>IPython</td><td>8.13.2</td></tr><tr><td>OS</td><td>Windows 10 10.0.26200 SP0</td></tr><tr><td>numpy</td><td>1.23.3</td></tr><tr><td>pandas</td><td>2.0.1</td></tr><tr><td colspan='2'>Tue Oct 28 10:07:43 2025 Mitteleuropäische Zeit</td></tr></table>"
      ],
      "text/latex": "\\begin{tabular}{|l|l|}\\hline\n{\\bf Software} & {\\bf Version} \\\\ \\hline\\hline\nPython & 3.10.7 64bit [MSC v.1933 64 bit (AMD64)] \\\\ \\hline\nIPython & 8.13.2 \\\\ \\hline\nOS & Windows 10 10.0.26200 SP0 \\\\ \\hline\nnumpy & 1.23.3 \\\\ \\hline\npandas & 2.0.1 \\\\ \\hline\n\\hline \\multicolumn{2}{|l|}{Tue Oct 28 10:07:43 2025 Mitteleuropäische Zeit} \\\\ \\hline\n\\end{tabular}\n",
      "application/json": {
       "Software versions": [
        {
         "module": "Python",
         "version": "3.10.7 64bit [MSC v.1933 64 bit (AMD64)]"
        },
        {
         "module": "IPython",
         "version": "8.13.2"
        },
        {
         "module": "OS",
         "version": "Windows 10 10.0.26200 SP0"
        },
        {
         "module": "numpy",
         "version": "1.23.3"
        },
        {
         "module": "pandas",
         "version": "2.0.1"
        }
       ]
      }
     },
     "execution_count": 30,
     "metadata": {},
     "output_type": "execute_result"
    }
   ],
   "execution_count": 30
  }
 ],
 "metadata": {
  "kernelspec": {
   "display_name": "Python 3",
   "language": "python",
   "name": "python3"
  },
  "language_info": {
   "codemirror_mode": {
    "name": "ipython",
    "version": 2
   },
   "file_extension": ".py",
   "mimetype": "text/x-python",
   "name": "python",
   "nbconvert_exporter": "python",
   "pygments_lexer": "ipython2",
   "version": "2.7.6"
  }
 },
 "nbformat": 4,
 "nbformat_minor": 5
}
