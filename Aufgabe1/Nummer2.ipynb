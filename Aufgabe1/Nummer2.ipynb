{
 "cells": [
  {
   "metadata": {},
   "cell_type": "markdown",
   "source": [
    "## a)\n",
    "Daten aus der Zipdatei lesen"
   ],
   "id": "dc40eaf2ac5fd629"
  },
  {
   "cell_type": "code",
   "id": "initial_id",
   "metadata": {
    "collapsed": true,
    "ExecuteTime": {
     "end_time": "2025-10-20T13:33:13.228122Z",
     "start_time": "2025-10-20T13:33:12.881359Z"
    }
   },
   "source": [
    "import zipfile\n",
    "import json\n",
    "from pathlib import Path\n",
    "\n",
    "from tensorboard.notebook import display\n",
    "\n",
    "path = Path('foods-2011-10-03.json.zip')\n",
    "\n",
    "with zipfile.ZipFile(path, \"r\") as z:\n",
    "    print(\"Inhalt des ZIP:\", z.namelist())\n",
    "    json_filename = None\n",
    "    for name in z.namelist():\n",
    "        if name.lower().endswith(\".json\"):\n",
    "            json_filename = name\n",
    "            break\n",
    "    assert json_filename is not None, \"Keine JSON-Datei im ZIP gefunden.\"\n",
    "\n",
    "    with z.open(json_filename) as f:\n",
    "        data = json.load(f)\n",
    "\n",
    "print(\"Anzahl Einträge (Foods):\", len(data))"
   ],
   "outputs": [
    {
     "name": "stdout",
     "output_type": "stream",
     "text": [
      "Inhalt des ZIP: ['foods-2011-10-03.json']\n",
      "Anzahl Einträge (Foods): 6636\n"
     ]
    }
   ],
   "execution_count": 5
  },
  {
   "metadata": {},
   "cell_type": "markdown",
   "source": [
    "## b)\n",
    "\n",
    "Dataframes erstellen"
   ],
   "id": "1a8fd929f19a58"
  },
  {
   "metadata": {
    "ExecuteTime": {
     "end_time": "2025-10-20T13:46:17.654230Z",
     "start_time": "2025-10-20T13:46:15.042837Z"
    }
   },
   "cell_type": "code",
   "source": [
    "import pandas as pd\n",
    "\n",
    "# 1) info DataFrame erstellen\n",
    "info_rows = []\n",
    "for item in data:\n",
    "    info_rows.append({\n",
    "        \"id\": item.get(\"id\"),\n",
    "        \"description\": item.get(\"description\"),\n",
    "        \"group\": item.get(\"group\"),\n",
    "        \"manufacturer\": item.get(\"manufacturer\")\n",
    "    })\n",
    "info = pd.DataFrame(info_rows)\n",
    "display(info.head())\n",
    "\n",
    "# 2) nutrients DataFrames\n",
    "nutrient_dfs = []\n",
    "for item in data:\n",
    "    nid = item.get(\"id\")\n",
    "    nutlist = item.get(\"nutrients\", [])\n",
    "    if not nutlist:\n",
    "        continue\n",
    "    tmp = pd.DataFrame(nutlist)\n",
    "    tmp[\"id\"] = nid\n",
    "    nutrient_dfs.append(tmp)\n",
    "\n",
    "# Alle zu einem großen DataFrame zusammenfügen\n",
    "nutrients = pd.concat(nutrient_dfs, ignore_index=True)\n",
    "print(\"Größe nutrients (vor drop_duplicates):\", nutrients.shape)\n",
    "display(nutrients.head())\n",
    "\n",
    "# Duplikate entfernen (falls gleiche Kombination id + description mehrfach)\n",
    "nutrients_before = len(nutrients)\n",
    "nutrients = nutrients.drop_duplicates()\n",
    "print(f\"Duplikate entfernt: {nutrients_before - len(nutrients)}\")\n",
    "print(\"Größe nutrients (nach drop_duplicates):\", nutrients.shape)\n",
    "\n",
    "# Umbenennen zur Eindeutigkeit:\n",
    "nutrients = nutrients.rename(columns={\n",
    "    \"description\": \"nutrient_description\",\n",
    "    \"group\": \"nutrient_group\"\n",
    "})\n",
    "info = info.rename(columns={\n",
    "    \"description\": \"food_description\",\n",
    "    \"group\": \"food_group\"\n",
    "})\n",
    "\n",
    "# Merge (outer, damit nichts verloren geht)\n",
    "merged = pd.merge(nutrients, info, on=\"id\", how=\"outer\", validate=\"m:1\")\n",
    "print(\"Merged shape:\", merged.shape)\n",
    "display(merged.head())"
   ],
   "id": "fbd07024df2283ce",
   "outputs": [
    {
     "data": {
      "text/plain": [
       "     id                         description                   group   \n",
       "0  1008                     Cheese, caraway  Dairy and Egg Products  \\\n",
       "1  1009                     Cheese, cheddar  Dairy and Egg Products   \n",
       "2  1018                        Cheese, edam  Dairy and Egg Products   \n",
       "3  1019                        Cheese, feta  Dairy and Egg Products   \n",
       "4  1028  Cheese, mozzarella, part skim milk  Dairy and Egg Products   \n",
       "\n",
       "  manufacturer  \n",
       "0               \n",
       "1               \n",
       "2               \n",
       "3               \n",
       "4               "
      ],
      "text/html": [
       "<div>\n",
       "<style scoped>\n",
       "    .dataframe tbody tr th:only-of-type {\n",
       "        vertical-align: middle;\n",
       "    }\n",
       "\n",
       "    .dataframe tbody tr th {\n",
       "        vertical-align: top;\n",
       "    }\n",
       "\n",
       "    .dataframe thead th {\n",
       "        text-align: right;\n",
       "    }\n",
       "</style>\n",
       "<table border=\"1\" class=\"dataframe\">\n",
       "  <thead>\n",
       "    <tr style=\"text-align: right;\">\n",
       "      <th></th>\n",
       "      <th>id</th>\n",
       "      <th>description</th>\n",
       "      <th>group</th>\n",
       "      <th>manufacturer</th>\n",
       "    </tr>\n",
       "  </thead>\n",
       "  <tbody>\n",
       "    <tr>\n",
       "      <th>0</th>\n",
       "      <td>1008</td>\n",
       "      <td>Cheese, caraway</td>\n",
       "      <td>Dairy and Egg Products</td>\n",
       "      <td></td>\n",
       "    </tr>\n",
       "    <tr>\n",
       "      <th>1</th>\n",
       "      <td>1009</td>\n",
       "      <td>Cheese, cheddar</td>\n",
       "      <td>Dairy and Egg Products</td>\n",
       "      <td></td>\n",
       "    </tr>\n",
       "    <tr>\n",
       "      <th>2</th>\n",
       "      <td>1018</td>\n",
       "      <td>Cheese, edam</td>\n",
       "      <td>Dairy and Egg Products</td>\n",
       "      <td></td>\n",
       "    </tr>\n",
       "    <tr>\n",
       "      <th>3</th>\n",
       "      <td>1019</td>\n",
       "      <td>Cheese, feta</td>\n",
       "      <td>Dairy and Egg Products</td>\n",
       "      <td></td>\n",
       "    </tr>\n",
       "    <tr>\n",
       "      <th>4</th>\n",
       "      <td>1028</td>\n",
       "      <td>Cheese, mozzarella, part skim milk</td>\n",
       "      <td>Dairy and Egg Products</td>\n",
       "      <td></td>\n",
       "    </tr>\n",
       "  </tbody>\n",
       "</table>\n",
       "</div>"
      ]
     },
     "metadata": {},
     "output_type": "display_data",
     "jetTransient": {
      "display_id": null
     }
    },
    {
     "name": "stdout",
     "output_type": "stream",
     "text": [
      "Größe nutrients (vor drop_duplicates): (389355, 5)\n"
     ]
    },
    {
     "data": {
      "text/plain": [
       "    value units                  description        group    id\n",
       "0   25.18     g                      Protein  Composition  1008\n",
       "1   29.20     g            Total lipid (fat)  Composition  1008\n",
       "2    3.06     g  Carbohydrate, by difference  Composition  1008\n",
       "3    3.28     g                          Ash        Other  1008\n",
       "4  376.00  kcal                       Energy       Energy  1008"
      ],
      "text/html": [
       "<div>\n",
       "<style scoped>\n",
       "    .dataframe tbody tr th:only-of-type {\n",
       "        vertical-align: middle;\n",
       "    }\n",
       "\n",
       "    .dataframe tbody tr th {\n",
       "        vertical-align: top;\n",
       "    }\n",
       "\n",
       "    .dataframe thead th {\n",
       "        text-align: right;\n",
       "    }\n",
       "</style>\n",
       "<table border=\"1\" class=\"dataframe\">\n",
       "  <thead>\n",
       "    <tr style=\"text-align: right;\">\n",
       "      <th></th>\n",
       "      <th>value</th>\n",
       "      <th>units</th>\n",
       "      <th>description</th>\n",
       "      <th>group</th>\n",
       "      <th>id</th>\n",
       "    </tr>\n",
       "  </thead>\n",
       "  <tbody>\n",
       "    <tr>\n",
       "      <th>0</th>\n",
       "      <td>25.18</td>\n",
       "      <td>g</td>\n",
       "      <td>Protein</td>\n",
       "      <td>Composition</td>\n",
       "      <td>1008</td>\n",
       "    </tr>\n",
       "    <tr>\n",
       "      <th>1</th>\n",
       "      <td>29.20</td>\n",
       "      <td>g</td>\n",
       "      <td>Total lipid (fat)</td>\n",
       "      <td>Composition</td>\n",
       "      <td>1008</td>\n",
       "    </tr>\n",
       "    <tr>\n",
       "      <th>2</th>\n",
       "      <td>3.06</td>\n",
       "      <td>g</td>\n",
       "      <td>Carbohydrate, by difference</td>\n",
       "      <td>Composition</td>\n",
       "      <td>1008</td>\n",
       "    </tr>\n",
       "    <tr>\n",
       "      <th>3</th>\n",
       "      <td>3.28</td>\n",
       "      <td>g</td>\n",
       "      <td>Ash</td>\n",
       "      <td>Other</td>\n",
       "      <td>1008</td>\n",
       "    </tr>\n",
       "    <tr>\n",
       "      <th>4</th>\n",
       "      <td>376.00</td>\n",
       "      <td>kcal</td>\n",
       "      <td>Energy</td>\n",
       "      <td>Energy</td>\n",
       "      <td>1008</td>\n",
       "    </tr>\n",
       "  </tbody>\n",
       "</table>\n",
       "</div>"
      ]
     },
     "metadata": {},
     "output_type": "display_data",
     "jetTransient": {
      "display_id": null
     }
    },
    {
     "name": "stdout",
     "output_type": "stream",
     "text": [
      "Duplikate entfernt: 14179\n",
      "Größe nutrients (nach drop_duplicates): (375176, 5)\n",
      "Merged shape: (375176, 8)\n"
     ]
    },
    {
     "data": {
      "text/plain": [
       "    value units         nutrient_description nutrient_group    id   \n",
       "0   25.18     g                      Protein    Composition  1008  \\\n",
       "1   29.20     g            Total lipid (fat)    Composition  1008   \n",
       "2    3.06     g  Carbohydrate, by difference    Composition  1008   \n",
       "3    3.28     g                          Ash          Other  1008   \n",
       "4  376.00  kcal                       Energy         Energy  1008   \n",
       "\n",
       "  food_description              food_group manufacturer  \n",
       "0  Cheese, caraway  Dairy and Egg Products               \n",
       "1  Cheese, caraway  Dairy and Egg Products               \n",
       "2  Cheese, caraway  Dairy and Egg Products               \n",
       "3  Cheese, caraway  Dairy and Egg Products               \n",
       "4  Cheese, caraway  Dairy and Egg Products               "
      ],
      "text/html": [
       "<div>\n",
       "<style scoped>\n",
       "    .dataframe tbody tr th:only-of-type {\n",
       "        vertical-align: middle;\n",
       "    }\n",
       "\n",
       "    .dataframe tbody tr th {\n",
       "        vertical-align: top;\n",
       "    }\n",
       "\n",
       "    .dataframe thead th {\n",
       "        text-align: right;\n",
       "    }\n",
       "</style>\n",
       "<table border=\"1\" class=\"dataframe\">\n",
       "  <thead>\n",
       "    <tr style=\"text-align: right;\">\n",
       "      <th></th>\n",
       "      <th>value</th>\n",
       "      <th>units</th>\n",
       "      <th>nutrient_description</th>\n",
       "      <th>nutrient_group</th>\n",
       "      <th>id</th>\n",
       "      <th>food_description</th>\n",
       "      <th>food_group</th>\n",
       "      <th>manufacturer</th>\n",
       "    </tr>\n",
       "  </thead>\n",
       "  <tbody>\n",
       "    <tr>\n",
       "      <th>0</th>\n",
       "      <td>25.18</td>\n",
       "      <td>g</td>\n",
       "      <td>Protein</td>\n",
       "      <td>Composition</td>\n",
       "      <td>1008</td>\n",
       "      <td>Cheese, caraway</td>\n",
       "      <td>Dairy and Egg Products</td>\n",
       "      <td></td>\n",
       "    </tr>\n",
       "    <tr>\n",
       "      <th>1</th>\n",
       "      <td>29.20</td>\n",
       "      <td>g</td>\n",
       "      <td>Total lipid (fat)</td>\n",
       "      <td>Composition</td>\n",
       "      <td>1008</td>\n",
       "      <td>Cheese, caraway</td>\n",
       "      <td>Dairy and Egg Products</td>\n",
       "      <td></td>\n",
       "    </tr>\n",
       "    <tr>\n",
       "      <th>2</th>\n",
       "      <td>3.06</td>\n",
       "      <td>g</td>\n",
       "      <td>Carbohydrate, by difference</td>\n",
       "      <td>Composition</td>\n",
       "      <td>1008</td>\n",
       "      <td>Cheese, caraway</td>\n",
       "      <td>Dairy and Egg Products</td>\n",
       "      <td></td>\n",
       "    </tr>\n",
       "    <tr>\n",
       "      <th>3</th>\n",
       "      <td>3.28</td>\n",
       "      <td>g</td>\n",
       "      <td>Ash</td>\n",
       "      <td>Other</td>\n",
       "      <td>1008</td>\n",
       "      <td>Cheese, caraway</td>\n",
       "      <td>Dairy and Egg Products</td>\n",
       "      <td></td>\n",
       "    </tr>\n",
       "    <tr>\n",
       "      <th>4</th>\n",
       "      <td>376.00</td>\n",
       "      <td>kcal</td>\n",
       "      <td>Energy</td>\n",
       "      <td>Energy</td>\n",
       "      <td>1008</td>\n",
       "      <td>Cheese, caraway</td>\n",
       "      <td>Dairy and Egg Products</td>\n",
       "      <td></td>\n",
       "    </tr>\n",
       "  </tbody>\n",
       "</table>\n",
       "</div>"
      ]
     },
     "metadata": {},
     "output_type": "display_data",
     "jetTransient": {
      "display_id": null
     }
    }
   ],
   "execution_count": 10
  },
  {
   "metadata": {},
   "cell_type": "markdown",
   "source": "## c)\n",
   "id": "489ae3897210159f"
  },
  {
   "metadata": {
    "ExecuteTime": {
     "end_time": "2025-10-20T13:56:14.972425Z",
     "start_time": "2025-10-20T13:56:14.146661Z"
    }
   },
   "cell_type": "code",
   "source": [
    "mask_zinc = merged[\"nutrient_description\"].str.contains(\"zinc\", case=False, na=False)\n",
    "zinc_df = merged[mask_zinc].copy()\n",
    "print(\"Anzahl Zink-Einträge:\", zinc_df.shape[0])\n",
    "print(\"Einige Zink-Einträge:\")\n",
    "display(zinc_df[[\"nutrient_description\", \"units\", \"value\", \"food_description\", \"food_group\"]].head())\n",
    "\n",
    "# Einheit normalisieren: wir wollen mg als Basis (häufig ist units 'mg' aber prüfen)\n",
    "zinc_df[\"units\"].value_counts(dropna=False).head(10)\n",
    "\n",
    "# Konvertionsfunktion: falls µg etc. (nur als Vorsichtsmaßnahme)\n",
    "def to_mg(row):\n",
    "    val = row[\"value\"]\n",
    "    units = row[\"units\"] or \"\"\n",
    "    units = units.lower()\n",
    "    if pd.isna(val):\n",
    "        return None\n",
    "    if \"mg\" in units:\n",
    "        return float(val)\n",
    "    if \"ug\" in units or \"µg\" in units or \"mcg\" in units:\n",
    "        return float(val) / 1000.0\n",
    "    # Falls andere Units, try to parse number (fallback)\n",
    "    return float(val)\n",
    "\n",
    "zinc_df[\"value_mg\"] = zinc_df.apply(to_mg, axis=1)\n",
    "\n",
    "# Deskriptive Statistiken\n",
    "desc = zinc_df[\"value_mg\"].describe()\n",
    "print(\"Deskriptive Statistik (Zink in mg):\")\n",
    "print(desc)\n",
    "\n",
    "import matplotlib.pyplot as plt\n",
    "plt.figure(figsize=(8,5))\n",
    "zinc_df[\"value_mg\"].hist(bins=60)\n",
    "plt.xlabel(\"Zink (mg)\")\n",
    "plt.ylabel(\"Anzahl Lebensmittel\")\n",
    "plt.title(\"Histogramm: Zinkgehalt (mg) in den Nahrungsmitteln\")\n",
    "plt.grid(False)\n",
    "plt.show()\n",
    "\n",
    "# Histogramm log-scaled (wegen starker Schiefe)\n",
    "plt.figure(figsize=(8,5))\n",
    "plt.hist(zinc_df[\"value_mg\"].dropna(), bins=60)\n",
    "plt.yscale(\"log\")\n",
    "plt.xlabel(\"Zink (mg)\")\n",
    "plt.ylabel(\"Anzahl Lebensmittel (log scale)\")\n",
    "plt.title(\"Histogramm (log y) des Zinkgehalts\")\n",
    "plt.show()\n",
    "\n",
    "mask_edam = zinc_df[\"food_description\"].str.contains(\"edam\", case=False, na=False)\n",
    "edam_rows = zinc_df[mask_edam]\n",
    "print(\"Gefundene Edam-Zeilen:\", len(edam_rows))\n",
    "if len(edam_rows) > 0:\n",
    "    print(edam_rows[[\"food_description\", \"value_mg\", \"units\"]])\n",
    "    # Vergleich mit Durchschnitt / Perzentilen\n",
    "    edam_mean_compare = edam_rows[\"value_mg\"].mean()\n",
    "    overall_mean = zinc_df[\"value_mg\"].mean()\n",
    "    overall_median = zinc_df[\"value_mg\"].median()\n",
    "    p75 = zinc_df[\"value_mg\"].quantile(0.75)\n",
    "    print(f\"Edam mean: {edam_mean_compare:.3f} mg, Gesamtmean: {overall_mean:.3f} mg, Median: {overall_median:.3f} mg, 75%-Quantil: {p75:.3f} mg\")\n",
    "\n",
    "    # Ist Edam überdurchschnittlich?\n",
    "    print(\"Edam über dem Gesamtmean?:\", edam_mean_compare > overall_mean)\n",
    "    edam_val = edam_rows[\"value_mg\"].max()\n",
    "    print(\"Edam max value_mg:\", edam_val)\n",
    "    print(\"Edam größer als 75%-Quantil?:\", edam_val > p75)\n",
    "else:\n",
    "    print(\"Kein Edam gefunden. Prüfe food_description Inhalte (z.B. 'Cheese, edam').\")\n",
    "\n",
    "# Welches Lebensmittel hat maximalen Zinkgehalt?\n",
    "idx_max = zinc_df[\"value_mg\"].idxmax()\n",
    "max_row = zinc_df.loc[idx_max]\n",
    "print(\"Maximaler Zinkgehalt:\")\n",
    "print(max_row[[\"food_description\", \"nutrient_description\", \"value_mg\", \"units\"]])\n"
   ],
   "id": "d0fb308884f6f5bf",
   "outputs": [
    {
     "name": "stdout",
     "output_type": "stream",
     "text": [
      "Anzahl Zink-Einträge: 6137\n",
      "Einige Zink-Einträge:\n"
     ]
    },
    {
     "data": {
      "text/plain": [
       "    nutrient_description units  value                    food_description   \n",
       "14              Zinc, Zn    mg   2.94                     Cheese, caraway  \\\n",
       "75              Zinc, Zn    mg   3.11                     Cheese, cheddar   \n",
       "151             Zinc, Zn    mg   3.75                        Cheese, edam   \n",
       "222             Zinc, Zn    mg   2.88                        Cheese, feta   \n",
       "293             Zinc, Zn    mg   2.76  Cheese, mozzarella, part skim milk   \n",
       "\n",
       "                 food_group  \n",
       "14   Dairy and Egg Products  \n",
       "75   Dairy and Egg Products  \n",
       "151  Dairy and Egg Products  \n",
       "222  Dairy and Egg Products  \n",
       "293  Dairy and Egg Products  "
      ],
      "text/html": [
       "<div>\n",
       "<style scoped>\n",
       "    .dataframe tbody tr th:only-of-type {\n",
       "        vertical-align: middle;\n",
       "    }\n",
       "\n",
       "    .dataframe tbody tr th {\n",
       "        vertical-align: top;\n",
       "    }\n",
       "\n",
       "    .dataframe thead th {\n",
       "        text-align: right;\n",
       "    }\n",
       "</style>\n",
       "<table border=\"1\" class=\"dataframe\">\n",
       "  <thead>\n",
       "    <tr style=\"text-align: right;\">\n",
       "      <th></th>\n",
       "      <th>nutrient_description</th>\n",
       "      <th>units</th>\n",
       "      <th>value</th>\n",
       "      <th>food_description</th>\n",
       "      <th>food_group</th>\n",
       "    </tr>\n",
       "  </thead>\n",
       "  <tbody>\n",
       "    <tr>\n",
       "      <th>14</th>\n",
       "      <td>Zinc, Zn</td>\n",
       "      <td>mg</td>\n",
       "      <td>2.94</td>\n",
       "      <td>Cheese, caraway</td>\n",
       "      <td>Dairy and Egg Products</td>\n",
       "    </tr>\n",
       "    <tr>\n",
       "      <th>75</th>\n",
       "      <td>Zinc, Zn</td>\n",
       "      <td>mg</td>\n",
       "      <td>3.11</td>\n",
       "      <td>Cheese, cheddar</td>\n",
       "      <td>Dairy and Egg Products</td>\n",
       "    </tr>\n",
       "    <tr>\n",
       "      <th>151</th>\n",
       "      <td>Zinc, Zn</td>\n",
       "      <td>mg</td>\n",
       "      <td>3.75</td>\n",
       "      <td>Cheese, edam</td>\n",
       "      <td>Dairy and Egg Products</td>\n",
       "    </tr>\n",
       "    <tr>\n",
       "      <th>222</th>\n",
       "      <td>Zinc, Zn</td>\n",
       "      <td>mg</td>\n",
       "      <td>2.88</td>\n",
       "      <td>Cheese, feta</td>\n",
       "      <td>Dairy and Egg Products</td>\n",
       "    </tr>\n",
       "    <tr>\n",
       "      <th>293</th>\n",
       "      <td>Zinc, Zn</td>\n",
       "      <td>mg</td>\n",
       "      <td>2.76</td>\n",
       "      <td>Cheese, mozzarella, part skim milk</td>\n",
       "      <td>Dairy and Egg Products</td>\n",
       "    </tr>\n",
       "  </tbody>\n",
       "</table>\n",
       "</div>"
      ]
     },
     "metadata": {},
     "output_type": "display_data",
     "jetTransient": {
      "display_id": null
     }
    },
    {
     "name": "stdout",
     "output_type": "stream",
     "text": [
      "Deskriptive Statistik (Zink in mg):\n",
      "count    6137.000000\n",
      "mean        2.228589\n",
      "std         3.975321\n",
      "min         0.000000\n",
      "25%         0.340000\n",
      "50%         0.980000\n",
      "75%         2.980000\n",
      "max        90.950000\n",
      "Name: value_mg, dtype: float64\n"
     ]
    },
    {
     "data": {
      "text/plain": [
       "<Figure size 800x500 with 1 Axes>"
      ],
      "image/png": "[encoded data removed]"
     },
     "metadata": {},
     "output_type": "display_data",
     "jetTransient": {
      "display_id": null
     }
    },
    {
     "data": {
      "text/plain": [
       "<Figure size 800x500 with 1 Axes>"
      ],
      "image/png": "[encoded data removed]"
     },
     "metadata": {},
     "output_type": "display_data",
     "jetTransient": {
      "display_id": null
     }
    },
    {
     "name": "stdout",
     "output_type": "stream",
     "text": [
      "Gefundene Edam-Zeilen: 3\n",
      "                   food_description  value_mg units\n",
      "151                    Cheese, edam      3.75    mg\n",
      "287494  Edamame, frozen, unprepared      1.32    mg\n",
      "287560    Edamame, frozen, prepared      1.37    mg\n",
      "Edam mean: 2.147 mg, Gesamtmean: 2.229 mg, Median: 0.980 mg, 75%-Quantil: 2.980 mg\n",
      "Edam über dem Gesamtmean?: False\n",
      "Edam max value_mg: 3.75\n",
      "Edam größer als 75%-Quantil?: True\n",
      "Maximaler Zinkgehalt:\n",
      "food_description        Mollusks, oyster, eastern, canned\n",
      "nutrient_description                             Zinc, Zn\n",
      "value_mg                                            90.95\n",
      "units                                                  mg\n",
      "Name: 333726, dtype: object\n"
     ]
    }
   ],
   "execution_count": 15
  },
  {
   "metadata": {
    "ExecuteTime": {
     "end_time": "2025-10-20T13:59:01.012448Z",
     "start_time": "2025-10-20T13:59:00.992732Z"
    }
   },
   "cell_type": "code",
   "source": [
    "%load_ext version_information\n",
    "%version_information numpy, pandas"
   ],
   "id": "f400f921c6fa4554",
   "outputs": [
    {
     "data": {
      "text/plain": [
       "Software versions\n",
       "Python 3.10.7 64bit [MSC v.1933 64 bit (AMD64)]\n",
       "IPython 8.13.2\n",
       "OS Windows 10 10.0.26100 SP0\n",
       "numpy 1.23.3\n",
       "pandas 2.0.1\n",
       "Mon Oct 20 15:59:01 2025 Mitteleuropäische Sommerzeit"
      ],
      "text/html": [
       "<table><tr><th>Software</th><th>Version</th></tr><tr><td>Python</td><td>3.10.7 64bit [MSC v.1933 64 bit (AMD64)]</td></tr><tr><td>IPython</td><td>8.13.2</td></tr><tr><td>OS</td><td>Windows 10 10.0.26100 SP0</td></tr><tr><td>numpy</td><td>1.23.3</td></tr><tr><td>pandas</td><td>2.0.1</td></tr><tr><td colspan='2'>Mon Oct 20 15:59:01 2025 Mitteleuropäische Sommerzeit</td></tr></table>"
      ],
      "text/latex": "\\begin{tabular}{|l|l|}\\hline\n{\\bf Software} & {\\bf Version} \\\\ \\hline\\hline\nPython & 3.10.7 64bit [MSC v.1933 64 bit (AMD64)] \\\\ \\hline\nIPython & 8.13.2 \\\\ \\hline\nOS & Windows 10 10.0.26100 SP0 \\\\ \\hline\nnumpy & 1.23.3 \\\\ \\hline\npandas & 2.0.1 \\\\ \\hline\n\\hline \\multicolumn{2}{|l|}{Mon Oct 20 15:59:01 2025 Mitteleuropäische Sommerzeit} \\\\ \\hline\n\\end{tabular}\n",
      "application/json": {
       "Software versions": [
        {
         "module": "Python",
         "version": "3.10.7 64bit [MSC v.1933 64 bit (AMD64)]"
        },
        {
         "module": "IPython",
         "version": "8.13.2"
        },
        {
         "module": "OS",
         "version": "Windows 10 10.0.26100 SP0"
        },
        {
         "module": "numpy",
         "version": "1.23.3"
        },
        {
         "module": "pandas",
         "version": "2.0.1"
        }
       ]
      }
     },
     "execution_count": 16,
     "metadata": {},
     "output_type": "execute_result"
    }
   ],
   "execution_count": 16
  }
 ],
 "metadata": {
  "kernelspec": {
   "display_name": "Python 3",
   "language": "python",
   "name": "python3"
  },
  "language_info": {
   "codemirror_mode": {
    "name": "ipython",
    "version": 2
   },
   "file_extension": ".py",
   "mimetype": "text/x-python",
   "name": "python",
   "nbconvert_exporter": "python",
   "pygments_lexer": "ipython2",
   "version": "2.7.6"
  }
 },
 "nbformat": 4,
 "nbformat_minor": 5
}
